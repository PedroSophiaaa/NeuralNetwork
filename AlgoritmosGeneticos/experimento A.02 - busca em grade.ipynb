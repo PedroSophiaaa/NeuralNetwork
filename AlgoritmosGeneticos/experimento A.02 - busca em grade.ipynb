{
 "cells": [
  {
   "cell_type": "markdown",
   "source": [
    "Busca em grade\n",
    "==============\n",
    "\n"
   ],
   "metadata": {}
  },
  {
   "cell_type": "markdown",
   "source": [
    "## Introdução\n",
    "\n"
   ],
   "metadata": {}
  },
  {
   "cell_type": "markdown",
   "source": [
    "Uma forma de se encontrar uma solução para um problema de otimização é realizando uma `busca em grade`. Uma busca em grade nada mais é do que testar exaustivamente todas as combinações possíveis entre um ou mais conjunto de parâmetros.\n",
    "\n",
    "Vamos supor que você queira testar dois parâmetros em um problema de otimização, $p$ e $q$. Os valores possíveis para $p$ e $q$ estão exibidos abaixo:\n",
    "\n",
    "$p = \\{0, 1, 2\\}$\n",
    "\n",
    "$q = \\{a, b, c\\}$\n",
    "\n",
    "Em uma busca em grade, nós iremos testar todas as combinações entre $p$ e $q$, sendo elas: $(0, a)$, $(0, b)$, $(0,c)$, $(1, a)$, $(1, b)$, $(1,c)$, $(2, a)$, $(2, b)$ e $(2,c)$.\n",
    "\n",
    "Um algoritmo de busca em grade segue os seguintes passos:\n",
    "\n",
    "1.  Definir quais são os parâmetros e quais são os valores possíveis para cada parâmetro\n",
    "\n",
    "2.  Computar e armazenar o resultado da função objetivo para todas as combinações possíveis dos parâmetros definidos no passo 1\n",
    "\n",
    "3.  Retornar ao usuário a combinação de parâmetros que teve o melhor resultado durante a busca.\n",
    "\n"
   ],
   "metadata": {}
  },
  {
   "cell_type": "markdown",
   "source": [
    "## Reflexões\n",
    "\n"
   ],
   "metadata": {}
  },
  {
   "cell_type": "markdown",
   "source": [
    "Você diria que o algoritmo de busca em grade é determinístico ou probabilístico?\n",
    "\n",
    "Será que a busca em grade é capaz de encontrar mínimos (ou máximos) da função objetivo?\n",
    "\n",
    "O que você espera da performance do algoritmo de busca em grade? Como a performance varia com o número de parâmetros e o número de itens nos conjuntos de valores de cada parâmetro?\n",
    "\n"
   ],
   "metadata": {}
  },
  {
   "cell_type": "markdown",
   "source": [
    "## Objetivo\n",
    "\n"
   ],
   "metadata": {}
  },
  {
   "cell_type": "markdown",
   "source": [
    "Encontrar uma solução para o problema das caixas binárias usando o algoritmo de busca em grade. Considere 4 caixas.\n",
    "\n"
   ],
   "metadata": {}
  },
  {
   "cell_type": "markdown",
   "source": [
    "## Descrição do problema\n",
    "\n"
   ],
   "metadata": {}
  },
  {
   "cell_type": "markdown",
   "source": [
    "O problema das caixas binárias é simples: nós temos um certo número de caixas e cada uma pode conter um valor do conjunto $\\{0, 1\\}$. O objetivo é encontrar uma combinação de caixas onde a soma dos valores contidos dentro delas é máximo.\n",
    "\n"
   ],
   "metadata": {}
  },
  {
   "cell_type": "markdown",
   "source": [
    "## Importações\n",
    "\n"
   ],
   "metadata": {}
  },
  {
   "cell_type": "code",
   "execution_count": 2,
   "source": [
    "from funcoes import objetivo\r\n",
    "import itertools"
   ],
   "outputs": [],
   "metadata": {}
  },
  {
   "cell_type": "markdown",
   "source": [
    "## Códigos e discussão\n",
    "\n"
   ],
   "metadata": {}
  },
  {
   "cell_type": "code",
   "execution_count": 3,
   "source": [
    "TAM_CROMO = 4"
   ],
   "outputs": [],
   "metadata": {}
  },
  {
   "cell_type": "code",
   "execution_count": 4,
   "source": [
    "for g1 in [0,1]:\r\n",
    "    for g2 in [0,1]:\r\n",
    "        for g3 in [0,1]:\r\n",
    "            for g4 in [0,1]:\r\n",
    "                individuo = [g1, g2, g3, g4]\r\n",
    "                print(individuo, objetivo(individuo))"
   ],
   "outputs": [
    {
     "output_type": "stream",
     "name": "stdout",
     "text": [
      "[0, 0, 0, 0] 0\n",
      "[0, 0, 0, 1] 1\n",
      "[0, 0, 1, 0] 1\n",
      "[0, 0, 1, 1] 2\n",
      "[0, 1, 0, 0] 1\n",
      "[0, 1, 0, 1] 2\n",
      "[0, 1, 1, 0] 2\n",
      "[0, 1, 1, 1] 3\n",
      "[1, 0, 0, 0] 1\n",
      "[1, 0, 0, 1] 2\n",
      "[1, 0, 1, 0] 2\n",
      "[1, 0, 1, 1] 3\n",
      "[1, 1, 0, 0] 2\n",
      "[1, 1, 0, 1] 3\n",
      "[1, 1, 1, 0] 3\n",
      "[1, 1, 1, 1] 4\n"
     ]
    }
   ],
   "metadata": {}
  },
  {
   "cell_type": "code",
   "execution_count": 5,
   "source": [
    "for i in itertools.product([0,1], repeat=TAM_CROMO): #Produto cartesiano com TAM_CROMO repetições\r\n",
    "    print(i, objetivo(i))"
   ],
   "outputs": [
    {
     "output_type": "stream",
     "name": "stdout",
     "text": [
      "(0, 0, 0, 0) 0\n",
      "(0, 0, 0, 1) 1\n",
      "(0, 0, 1, 0) 1\n",
      "(0, 0, 1, 1) 2\n",
      "(0, 1, 0, 0) 1\n",
      "(0, 1, 0, 1) 2\n",
      "(0, 1, 1, 0) 2\n",
      "(0, 1, 1, 1) 3\n",
      "(1, 0, 0, 0) 1\n",
      "(1, 0, 0, 1) 2\n",
      "(1, 0, 1, 0) 2\n",
      "(1, 0, 1, 1) 3\n",
      "(1, 1, 0, 0) 2\n",
      "(1, 1, 0, 1) 3\n",
      "(1, 1, 1, 0) 3\n",
      "(1, 1, 1, 1) 4\n"
     ]
    }
   ],
   "metadata": {}
  },
  {
   "cell_type": "markdown",
   "source": [
    "## Conclusão\n",
    "\n"
   ],
   "metadata": {}
  },
  {
   "cell_type": "markdown",
   "source": [
    "Um código determinístico, diferente da busca aleatória;  \r\n",
    "Em espaços de busca maiores pode não ser tão útil por correr todas as possibilidades;  \r\n",
    "Utilizando o itertools podemos definir a constante TAM_CROMO, o *repeat* deixou o código mais bonito."
   ],
   "metadata": {}
  },
  {
   "cell_type": "markdown",
   "source": [
    "## Playground\n",
    "\n"
   ],
   "metadata": {}
  },
  {
   "cell_type": "code",
   "execution_count": null,
   "source": [],
   "outputs": [],
   "metadata": {}
  }
 ],
 "metadata": {
  "kernelspec": {
   "name": "python3",
   "display_name": "Python 3.9.7 64-bit"
  },
  "language_info": {
   "codemirror_mode": {
    "name": "ipython",
    "version": 3
   },
   "file_extension": ".py",
   "mimetype": "text/x-python",
   "name": "python",
   "nbconvert_exporter": "python",
   "pygments_lexer": "ipython3",
   "version": "3.9.7"
  },
  "org": null,
  "interpreter": {
   "hash": "ac59ebe37160ed0dfa835113d9b8498d9f09ceb179beaac4002f036b9467c963"
  }
 },
 "nbformat": 4,
 "nbformat_minor": 4
}