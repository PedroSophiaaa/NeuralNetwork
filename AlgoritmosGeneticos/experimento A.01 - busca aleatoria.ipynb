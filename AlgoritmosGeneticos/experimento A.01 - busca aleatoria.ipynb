{
 "cells": [
  {
   "cell_type": "markdown",
   "source": [
    "Busca aleatória\n",
    "===============\n",
    "\n"
   ],
   "metadata": {}
  },
  {
   "cell_type": "markdown",
   "source": [
    "## Introdução\n",
    "\n"
   ],
   "metadata": {}
  },
  {
   "cell_type": "markdown",
   "source": [
    "Uma forma simples de se encontrar uma solução para um `problema de otimização` é realizando uma `busca aleatória`. A busca aleatória, como o próprio nome sugere, é um algoritmo onde um certo `espaço de busca` é definido de onde sorteamos `candidatos` de soluções para o problema.\n",
    "\n",
    "Diferentemente de outros algoritmos de otimização, a busca aleatória não requer que a `função objetivo` seja diferenciável nem contínua.\n",
    "\n",
    "Um algoritmo de busca aleatória segue os seguintes passos:\n",
    "\n",
    "1.  Um espaço de busca é definido\n",
    "\n",
    "2.  Um candidato $x$ dentro do espaço de busca é sorteado aleatoriamente\n",
    "\n",
    "3.  Calculamos o resultado da função objetivo para o candidato $x$\n",
    "\n",
    "4.  Se o critério de parada for atingido, encerrar o algoritmo e retornar ao usuário o candidato que teve melhor resultado durante a busca. Do contrário, retorne ao passo 2\n",
    "\n"
   ],
   "metadata": {}
  },
  {
   "cell_type": "markdown",
   "source": [
    "## Reflexões\n",
    "\n"
   ],
   "metadata": {}
  },
  {
   "cell_type": "markdown",
   "source": [
    "Você diria que o algoritmo de busca aleatória é determinístico ou probabilístico?\n",
    "\n",
    "Em quais problemas de otimização você acredita que este algoritmo seja uma boa escolha?\n",
    "\n",
    "Em quais problemas de otimização você acredita que este algoritmo seja uma má escolha?\n",
    "\n"
   ],
   "metadata": {}
  },
  {
   "cell_type": "markdown",
   "source": [
    "## Objetivo\n",
    "\n"
   ],
   "metadata": {}
  },
  {
   "cell_type": "markdown",
   "source": [
    "Encontrar uma solução para o problema das caixas binárias usando o algoritmo de busca aleatória. Considere 4 caixas.\n",
    "\n"
   ],
   "metadata": {}
  },
  {
   "cell_type": "markdown",
   "source": [
    "## Descrição do problema\n",
    "\n"
   ],
   "metadata": {}
  },
  {
   "cell_type": "markdown",
   "source": [
    "O problema das caixas binárias é simples: nós temos um certo número de caixas e cada uma pode conter um valor do conjunto $\\{0, 1\\}$. O objetivo é encontrar uma combinação de caixas onde a soma dos valores contidos dentro delas é máximo.\n",
    "\n",
    "Como todo problema computacional, um dos desafios é &ldquo;traduzir&rdquo; o problema dado em estruturas computacionais.\n",
    "\n"
   ],
   "metadata": {}
  },
  {
   "cell_type": "markdown",
   "source": [
    "## Importações\n",
    "\n"
   ],
   "metadata": {}
  },
  {
   "cell_type": "code",
   "execution_count": 1,
   "source": [
    "import random as rd"
   ],
   "outputs": [],
   "metadata": {}
  },
  {
   "cell_type": "markdown",
   "source": [
    "## Códigos e discussão\n",
    "\n"
   ],
   "metadata": {}
  },
  {
   "cell_type": "code",
   "execution_count": 2,
   "source": [
    "#Constantes\r\n",
    "\r\n",
    "TAM_CROMO = 4 #Tamanho do cromossomo\r\n",
    "NUM_GEN = 50 #Número de gerações"
   ],
   "outputs": [],
   "metadata": {}
  },
  {
   "cell_type": "code",
   "execution_count": 3,
   "source": [
    "def random_gen():\r\n",
    "    \"\"\"Gera um gene aleatório válido para o problema.\r\n",
    "    \r\n",
    "    Return:\r\n",
    "        0 ou 1.\"\"\"\r\n",
    "    return rd.randint(0,1)"
   ],
   "outputs": [],
   "metadata": {}
  },
  {
   "cell_type": "code",
   "execution_count": 4,
   "source": [
    "def individuo(n):\r\n",
    "    \"\"\"Gera um indivíduo válido.\r\n",
    "    \r\n",
    "    Args:\r\n",
    "        n: número de genes\r\n",
    "    \r\n",
    "    Return:\r\n",
    "        Uma lista com n genes, representando um indivíduo\"\"\"\r\n",
    "    ind = []\r\n",
    "    for i in range(n):\r\n",
    "        ind.append(random_gen())\r\n",
    "    return ind"
   ],
   "outputs": [],
   "metadata": {}
  },
  {
   "cell_type": "code",
   "execution_count": 5,
   "source": [
    "def objetivo(ind):\r\n",
    "    \"\"\"Utilizada para comparar individuos.\r\n",
    "    \r\n",
    "    Args:\r\n",
    "        ind: indivíduo\r\n",
    "        \r\n",
    "    Return:\r\n",
    "        A soma dos valores de cada caixa\"\"\"\r\n",
    "    return sum(ind)"
   ],
   "outputs": [],
   "metadata": {}
  },
  {
   "cell_type": "code",
   "execution_count": 81,
   "source": [
    "dicio_obj = {} #Define o dicionário contendo os indivíduos\n",
    "for i in range(NUM_GEN):\n",
    "    curr_ind = individuo(TAM_CROMO)\n",
    "    dicio_obj[f\"{i+1}. {str(curr_ind)}\"] = objetivo(curr_ind) #Armazena o valor da função objetivo correspondente a cada indivíduo\n",
    "dicio_obj"
   ],
   "outputs": [
    {
     "output_type": "execute_result",
     "data": {
      "text/plain": [
       "{'1. [0, 0, 1, 1]': 2,\n",
       " '2. [1, 1, 0, 0]': 2,\n",
       " '3. [0, 1, 0, 1]': 2,\n",
       " '4. [1, 1, 1, 0]': 3,\n",
       " '5. [0, 1, 1, 0]': 2,\n",
       " '6. [1, 0, 1, 1]': 3,\n",
       " '7. [0, 0, 1, 1]': 2,\n",
       " '8. [1, 0, 0, 1]': 2,\n",
       " '9. [0, 1, 0, 1]': 2,\n",
       " '10. [1, 1, 0, 0]': 2,\n",
       " '11. [0, 1, 1, 0]': 2,\n",
       " '12. [0, 0, 1, 0]': 1,\n",
       " '13. [0, 0, 0, 0]': 0,\n",
       " '14. [0, 0, 0, 0]': 0,\n",
       " '15. [0, 0, 1, 0]': 1,\n",
       " '16. [1, 0, 1, 1]': 3,\n",
       " '17. [0, 0, 1, 0]': 1,\n",
       " '18. [1, 1, 1, 1]': 4,\n",
       " '19. [0, 1, 1, 1]': 3,\n",
       " '20. [1, 0, 1, 0]': 2,\n",
       " '21. [0, 1, 1, 1]': 3,\n",
       " '22. [1, 1, 1, 0]': 3,\n",
       " '23. [0, 1, 0, 0]': 1,\n",
       " '24. [1, 1, 1, 1]': 4,\n",
       " '25. [1, 1, 1, 1]': 4,\n",
       " '26. [0, 0, 1, 1]': 2,\n",
       " '27. [0, 1, 0, 0]': 1,\n",
       " '28. [0, 1, 1, 0]': 2,\n",
       " '29. [1, 1, 1, 1]': 4,\n",
       " '30. [0, 1, 0, 1]': 2,\n",
       " '31. [0, 1, 0, 1]': 2,\n",
       " '32. [1, 0, 0, 0]': 1,\n",
       " '33. [1, 1, 1, 0]': 3,\n",
       " '34. [1, 0, 0, 1]': 2,\n",
       " '35. [1, 1, 0, 0]': 2,\n",
       " '36. [1, 0, 0, 0]': 1,\n",
       " '37. [0, 1, 1, 1]': 3,\n",
       " '38. [0, 1, 1, 1]': 3,\n",
       " '39. [0, 1, 1, 1]': 3,\n",
       " '40. [1, 1, 1, 1]': 4,\n",
       " '41. [1, 1, 0, 0]': 2,\n",
       " '42. [1, 1, 1, 1]': 4,\n",
       " '43. [0, 1, 1, 0]': 2,\n",
       " '44. [1, 1, 1, 0]': 3,\n",
       " '45. [0, 0, 0, 0]': 0,\n",
       " '46. [1, 1, 0, 0]': 2,\n",
       " '47. [1, 0, 1, 1]': 3,\n",
       " '48. [1, 0, 0, 0]': 1,\n",
       " '49. [0, 0, 1, 0]': 1,\n",
       " '50. [0, 0, 0, 1]': 1}"
      ]
     },
     "metadata": {},
     "execution_count": 81
    }
   ],
   "metadata": {}
  },
  {
   "cell_type": "markdown",
   "source": [
    "## Conclusão\n",
    "\n"
   ],
   "metadata": {}
  },
  {
   "cell_type": "markdown",
   "source": [
    "Consigui entender o motivo da busca aleatória e sua utilidade, definir funções facilitou o entendimento do código;  \n",
    "Com o número de indivíduos que coloquei, _matei um mosquito com um tiro de canhão_, mas foi apenas um teste, então tudo bem. =D"
   ],
   "metadata": {}
  },
  {
   "cell_type": "markdown",
   "source": [
    "## Playground\n",
    "\n"
   ],
   "metadata": {}
  },
  {
   "cell_type": "code",
   "execution_count": null,
   "source": [],
   "outputs": [],
   "metadata": {}
  }
 ],
 "metadata": {
  "kernelspec": {
   "name": "python3",
   "display_name": "Python 3.9.7 64-bit"
  },
  "language_info": {
   "codemirror_mode": {
    "name": "ipython",
    "version": 3
   },
   "file_extension": ".py",
   "mimetype": "text/x-python",
   "name": "python",
   "nbconvert_exporter": "python",
   "pygments_lexer": "ipython3",
   "version": "3.9.7"
  },
  "org": null,
  "interpreter": {
   "hash": "ac59ebe37160ed0dfa835113d9b8498d9f09ceb179beaac4002f036b9467c963"
  }
 },
 "nbformat": 4,
 "nbformat_minor": 4
}