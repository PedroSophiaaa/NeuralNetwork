{
 "cells": [
  {
   "cell_type": "markdown",
   "metadata": {},
   "source": [
    "Aplicando restrições na busca\n",
    "=============================\n",
    "\n"
   ]
  },
  {
   "cell_type": "markdown",
   "metadata": {},
   "source": [
    "## Introdução\n",
    "\n"
   ]
  },
  {
   "cell_type": "markdown",
   "metadata": {},
   "source": [
    "Muitos problemas de otimização com relevância científica têm uma ou mais `restrições` que devem ser levadas em consideração na hora de resolver o problema.\n",
    "\n",
    "Lembra do `problema da mochila` que vimos em Lógica Computacional? Era um problema de otimização onde queríamos maximizar o valor dos itens colocados na mochila enquanto observávamos a restrição do peso total dos itens (do contrário, a mochila rasgava).\n",
    "\n",
    "Uma forma de considerar essas restrições nos problemas é aplicando uma `penalidade` na função objetivo.\n",
    "\n",
    "Vamos pensar como seria essa penalidade no problema da mochila: a função objetivo é maximizar o valor dos itens na mochila, então é um problema de maximização. A função objetivo pode ser a soma dos itens da mochila. Se fosse só isso, teríamos\n",
    "\n",
    "$$\n",
    "f = \\sum_{i, i \\in \\mathrm{mochila}}\\mathrm{valor}(i)\n",
    "$$\n",
    "\n",
    "No entanto, apenas essa função não resolve o problema! Precisamos levar em consideração o limite de peso da mochila! Para isso, penalizamos a função objetivo levando em consideração essa restrição:\n",
    "\n",
    "$f=\\begin{cases}\n",
    "0.01 & \\textrm{se peso > limite da mochila}\\\\\n",
    "\\sum_{i,i\\in\\mathrm{mochila}}(\\mathrm{valor}(i)) & \\textrm{se peso} \\leq \\textrm{limite da mochila}\n",
    "\\end{cases}$\n",
    "\n",
    "Agora finalmente podemos seguir em frente e resolver o problema.\n",
    "\n"
   ]
  },
  {
   "cell_type": "markdown",
   "metadata": {},
   "source": [
    "## Reflexões\n",
    "\n"
   ]
  },
  {
   "cell_type": "markdown",
   "metadata": {},
   "source": [
    "Se usarmos a equação de $f$ acima, qual será o valor de $f$ caso não exista uma solução para um certo problema da mochila?\n",
    "\n",
    "Na equação de $f$ acima nós usamos um valor práximo de zero para indicar que uma restrição do problema não foi satisfeita. Você consegue pensar em outra estratégia para penalizar soluções inválidas?\n",
    "\n"
   ]
  },
  {
   "cell_type": "markdown",
   "metadata": {},
   "source": [
    "## Objetivo\n",
    "\n"
   ]
  },
  {
   "cell_type": "markdown",
   "metadata": {},
   "source": [
    "Encontrar uma solução para o problema da mochila usando algoritmos genéticos. Considere que existem 10 itens diferentes (com pesos e valores diferentes) disponíveis para serem escolhidos.\n",
    "\n"
   ]
  },
  {
   "cell_type": "markdown",
   "metadata": {},
   "source": [
    "## Descrição do problema\n",
    "\n"
   ]
  },
  {
   "cell_type": "markdown",
   "metadata": {},
   "source": [
    "No problema da mochila você tem um número $n$ de itens disponíveis, cada um com um peso e um valor associado. Sua mochila tem a capacidade de carregar um número $p$ de quilogramas, sendo que mais que isso faz com que sua mochila rasgue e todos os itens dentro dela caiam no chão e se quebrem de maneira catastrófica (indesejado). Sua tarefa é encontrar um conjunto de itens (considerando os $n$ disponíveis) que maximize o valor contido dentro da mochila, porém que tenham um peso dentro da capacidade da mesma.\n",
    "\n"
   ]
  },
  {
   "cell_type": "markdown",
   "metadata": {},
   "source": [
    "## Importações\n",
    "\n"
   ]
  },
  {
   "cell_type": "code",
   "execution_count": 2,
   "metadata": {},
   "outputs": [],
   "source": [
    "import random as rd\n",
    "\n",
    "from constantes import DIC_OBJ as OBJETOS\n",
    "\n",
    "from funcoes import backpack_values\n",
    "from funcoes import fitness_pop_mochila\n",
    "from funcoes import new_pop_mochila\n",
    "from funcoes import roull_sel_max_mochila\n",
    "from funcoes import crossover\n",
    "from funcoes import mutation_mochila"
   ]
  },
  {
   "cell_type": "markdown",
   "metadata": {},
   "source": [
    "## Códigos e discussão\n",
    "\n"
   ]
  },
  {
   "cell_type": "code",
   "execution_count": 26,
   "metadata": {},
   "outputs": [],
   "source": [
    "### CONSTANTES\n",
    "\n",
    "# relacionadas à busca\n",
    "TAM_POP = 20\n",
    "NUM_GEN = 1000\n",
    "PC = 0.5\n",
    "PM = 0.05\n",
    "\n",
    "# relacionadas ao problema a ser resolvido\n",
    "LIM = 5\n",
    "NUM_OBJETOS = len(OBJETOS)\n",
    "ORDEM_DOS_NOMES = list(sorted(OBJETOS.keys()))"
   ]
  },
  {
   "cell_type": "code",
   "execution_count": 27,
   "metadata": {},
   "outputs": [],
   "source": [
    "# Funções locais\n",
    "\n",
    "def fitness_pop(pop):\n",
    "    return fitness_pop_mochila(\n",
    "        pop, OBJETOS, LIM, ORDEM_DOS_NOMES\n",
    "    )"
   ]
  },
  {
   "cell_type": "code",
   "execution_count": 36,
   "metadata": {},
   "outputs": [
    {
     "name": "stdout",
     "output_type": "stream",
     "text": [
      "Maior valor: 1180 | Peso: 4.47\n",
      "Maior valor: 1210 | Peso: 4.9\n",
      "Maior valor: 1280 | Peso: 5.0\n",
      "Maior valor: 1310 | Peso: 4.8500000000000005\n",
      "Maior valor: 1350 | Peso: 4.87\n",
      "Maior valor: 1470 | Peso: 4.67\n",
      "Maior valor: 1520 | Peso: 4.970000000000001\n",
      "\n",
      "Você deve pegar os seguintes itens:\n",
      "+ Chinelo ninja com ponta de aço\n",
      "+ Espelho que mostra seu reflexo como um animal\n",
      "+ Fone de ouvido em forma de orelhas de gato\n",
      "+ Gravata que toca música quando apertada\n",
      "+ Máscara com estampa de personagem do pica-pau\n",
      "+ Máscara de dormir que parece olhos abertos\n",
      "+ Pendrive em forma de sushi\n",
      "+ Pijama para cães com asas\n",
      "+ Roupa de banho comestível\n",
      "+ Touca de natação à prova de choque elétrico\n",
      "+ Tênis com rodinhas para adultos\n",
      "\n",
      "Valor total: 1520\n",
      "Peso total: 4.970000000000001\n"
     ]
    }
   ],
   "source": [
    "pop = new_pop_mochila(TAM_POP, NUM_OBJETOS)\n",
    "\n",
    "melhor_fitness_ja_visto = -float(\"inf\")\n",
    "melhor_individuo_ja_visto = [0] * NUM_OBJETOS\n",
    "\n",
    "for n in range(NUM_GEN):\n",
    "\n",
    "    # Roleta\n",
    "    fitness = fitness_pop(pop)\n",
    "    pop = roull_sel_max_mochila(pop, fitness)\n",
    "\n",
    "    # Crossover\n",
    "    p1_list = pop[0::2]\n",
    "    p2_list = pop[1::2]\n",
    "\n",
    "    c = 0\n",
    "    for p1, p2 in zip(p1_list, p2_list):\n",
    "        filho1, filho2 = crossover(p1, p2, PC)\n",
    "        pop[c] = filho1\n",
    "        pop[c + 1] = filho2\n",
    "        c += 2\n",
    "\n",
    "    # Mutação\n",
    "\n",
    "    for i in range(len(pop)):\n",
    "        curr_ind = pop[i]\n",
    "        pop[i] = mutation_mochila(curr_ind, PM)\n",
    "\n",
    "    # Hall da fama\n",
    "    fitness = fitness_pop(pop)\n",
    "    maior_fitness = max(fitness)\n",
    "    posicao = fitness.index(maior_fitness)\n",
    "    ind = pop[posicao].copy()\n",
    "    valor, peso = backpack_values(ind, OBJETOS, ORDEM_DOS_NOMES)\n",
    "    if maior_fitness > melhor_fitness_ja_visto and peso <= LIM:\n",
    "        melhor_fitness_ja_visto = maior_fitness\n",
    "        melhor_individuo_ja_visto = ind\n",
    "        print(f\"Maior valor: {valor} | Peso: {peso}\")\n",
    "\n",
    "\n",
    "# Melhor individuo\n",
    "print()\n",
    "print(\"Você deve pegar os seguintes itens:\")\n",
    "for pega_ou_nao, item in zip(melhor_individuo_ja_visto, ORDEM_DOS_NOMES):\n",
    "    if pega_ou_nao == 1:\n",
    "        print(\"+\", item)\n",
    "print()\n",
    "valor_total, peso_total = backpack_values(\n",
    "    melhor_individuo_ja_visto, OBJETOS, ORDEM_DOS_NOMES\n",
    ")\n",
    "print(\n",
    "    f\"Valor total: {valor_total}\\n\"\n",
    "    f\"Peso total: {peso_total}\"\n",
    ")"
   ]
  },
  {
   "cell_type": "markdown",
   "metadata": {},
   "source": [
    "**Desafio**: resolva o experimento considerando uma busca em grade para encontrar a melhor resposta.\n",
    "\n"
   ]
  },
  {
   "cell_type": "code",
   "execution_count": null,
   "metadata": {},
   "outputs": [],
   "source": []
  },
  {
   "cell_type": "markdown",
   "metadata": {},
   "source": [
    "## Conclusão\n",
    "\n"
   ]
  },
  {
   "attachments": {},
   "cell_type": "markdown",
   "metadata": {},
   "source": [
    "### Efetividade do código:\n",
    "De maneira semelhante ao que ocorre no algotimo do caixeiro viajante, uma busca em grade teria aumento exponencial no custo computacional, nesse prisma o algoritmo genético se mostra extremamente útil, retornando uma lista de itens - não necessariamente a melhor - que se aproxima da resolução do problema.  \n",
    "Com o aumento do número de gerações, a eficácia do algoritmo genético pode ser melhor; Outra solução possível é tornar o algoritmo um problema de minimazação que tende a 0, tendo como critério de parada não mais o número de gerações, e sim quando a menor *fitness function* se aproxima muito (ou se iguala) à zero."
   ]
  },
  {
   "cell_type": "markdown",
   "metadata": {},
   "source": [
    "## Playground\n",
    "\n"
   ]
  },
  {
   "cell_type": "code",
   "execution_count": null,
   "metadata": {},
   "outputs": [],
   "source": []
  }
 ],
 "metadata": {
  "kernelspec": {
   "display_name": "pepepy",
   "language": "python",
   "name": "pepepy"
  },
  "language_info": {
   "codemirror_mode": {
    "name": "ipython",
    "version": 3
   },
   "file_extension": ".py",
   "mimetype": "text/x-python",
   "name": "python",
   "nbconvert_exporter": "python",
   "pygments_lexer": "ipython3",
   "version": "3.10.6"
  },
  "org": null
 },
 "nbformat": 4,
 "nbformat_minor": 4
}
